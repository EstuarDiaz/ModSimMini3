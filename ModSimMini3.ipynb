{
 "cells": [
  {
   "cell_type": "code",
   "execution_count": 9,
   "metadata": {},
   "outputs": [],
   "source": [
    "import numpy as np"
   ]
  },
  {
   "cell_type": "code",
   "execution_count": 82,
   "metadata": {},
   "outputs": [],
   "source": [
    "def getTs(t,lamda_max):\n",
    "    while True:\n",
    "        t = t - (np.log(np.random.uniform())/lamda_max)\n",
    "        if np.random.uniform() <= np.random.poisson(t)/lamda_max:\n",
    "            return t"
   ]
  },
  {
   "cell_type": "code",
   "execution_count": 83,
   "metadata": {},
   "outputs": [],
   "source": [
    "def simular(duracion_simulacion,lamda_max,velocidad,no_cpus):\n",
    "    t = 0\n",
    "    Na = 0\n",
    "    Nd = 0\n",
    "    n = 0\n",
    "    A = {}\n",
    "    D = {}\n",
    "    ta = getTs(t,lamda_max)\n",
    "    td = np.infty\n",
    "    while True:\n",
    "        if min(ta,td) <= duracion_simulacion:\n",
    "            if ta <= td:\n",
    "                t = ta\n",
    "                Na += 1\n",
    "                n += 1\n",
    "                ta = getTs(t,lamda_max)\n",
    "                if n==1:\n",
    "                    td = t + np.random.exponential(velocidad)\n",
    "                A[Na] = t\n",
    "            else:\n",
    "                t = td\n",
    "                n -= 1\n",
    "                Nd += 1\n",
    "                if n==0:\n",
    "                    td = np.infty\n",
    "                else:\n",
    "                    td = t + np.random.exponential(velocidad)\n",
    "                D[Nd] = t\n",
    "        else:\n",
    "            if n > 0:\n",
    "                t = td\n",
    "                n -= 1\n",
    "                Nd += 1\n",
    "                if n > 0:\n",
    "                    td = t + np.random.exponential(velocidad)\n",
    "                D[Nd] = t\n",
    "            else:\n",
    "                Tp = max(t-duracion_simulacion,0)\n",
    "                break;\n",
    "    return {\"Na\": Na, \"Nd\": Nd, \"n\":n, \"Tp\": Tp, \"A\": A, \"D\": D}"
   ]
  },
  {
   "cell_type": "code",
   "execution_count": 84,
   "metadata": {},
   "outputs": [],
   "source": [
    "max_solicitudes = [2400,6000]\n",
    "duraciones = [60]\n",
    "Proveedores = [\n",
    "    {\n",
    "        \"nombre\": \"Gorilla Megacomputing\",\n",
    "        \"no_cpus\": 1,\n",
    "        \"velocidad\": 100\n",
    "    },\n",
    "    {\n",
    "        \"nombre\": \"Ants smart computing\",\n",
    "        \"no_cpus\": 10,\n",
    "        \"velocidad\": 10\n",
    "    },\n",
    "]"
   ]
  },
  {
   "cell_type": "code",
   "execution_count": 85,
   "metadata": {},
   "outputs": [],
   "source": [
    "for duracion_simulacion in duraciones:\n",
    "    for lamda_max in max_solicitudes:\n",
    "        for proveedor in Proveedores:\n",
    "            resultados = simular(duracion_simulacion,lamda_max,proveedor[\"velocidad\"],proveedor[\"no_cpus\"])"
   ]
  },
  {
   "cell_type": "code",
   "execution_count": null,
   "metadata": {},
   "outputs": [],
   "source": [
    "Na = [] # número de llegadas al tiempo t\n",
    "Nd = [] # número de salidas al tiempo t\n",
    "n = [] # número de solicitudes en el sistema en el tiempo t\n",
    "for i in range(len(Proveedores)):\n",
    "    Na.append(np.empty((0,2))) \n",
    "    Nd.append(np.empty((0,2))) \n",
    "    n.append(np.empty((0,2)))"
   ]
  }
 ],
 "metadata": {
  "kernelspec": {
   "display_name": "Python 3",
   "language": "python",
   "name": "python3"
  },
  "language_info": {
   "codemirror_mode": {
    "name": "ipython",
    "version": 3
   },
   "file_extension": ".py",
   "mimetype": "text/x-python",
   "name": "python",
   "nbconvert_exporter": "python",
   "pygments_lexer": "ipython3",
   "version": "3.7.1"
  }
 },
 "nbformat": 4,
 "nbformat_minor": 2
}
